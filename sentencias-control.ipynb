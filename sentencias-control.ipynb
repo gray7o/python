{
 "cells": [
  {
   "cell_type": "markdown",
   "metadata": {},
   "source": [
    "<div style=\"text-align: center;\">\n",
    "  <img src=\"https://github.com/Hack-io-Data/Imagenes/blob/main/01-LogosHackio/logo_celeste@4x.png?raw=true\" alt=\"logo hack(io)\" />\n",
    "</div>"
   ]
  },
  {
   "cell_type": "markdown",
   "metadata": {},
   "source": [
    "#### 1. Escribe un programa que determine si un número es par o impar.\n",
    "\n"
   ]
  },
  {
   "cell_type": "code",
   "execution_count": 42,
   "metadata": {},
   "outputs": [
    {
     "name": "stdout",
     "output_type": "stream",
     "text": [
      "es par\n"
     ]
    }
   ],
   "source": [
    "#este ejercicio es iigual al 10  se usa el mismo codigo\n",
    "# solo tendremos 2 posiblidades o si o no  \n",
    "\n",
    "numero_usuario = int(input())\n",
    "if numero_usuario %2 == 0 :\n",
    "    print(\"es par\")\n",
    "else :\n",
    "    print(\"es impar\")"
   ]
  },
  {
   "cell_type": "markdown",
   "metadata": {},
   "source": [
    "#### 2. Genera un programa que nos diga si es de noche, de día o tarde según la hora proporcionada por el usuario."
   ]
  },
  {
   "cell_type": "code",
   "execution_count": 20,
   "metadata": {},
   "outputs": [
    {
     "name": "stdout",
     "output_type": "stream",
     "text": [
      "es por la noche\n"
     ]
    }
   ],
   "source": [
    "# se ha realizado sobre un horario de 24 h , siendo 6 am a 14pm de mañana \n",
    "#ponemos el int para garantizar un numero\n",
    "#de 15 pm a 18 pm por la tarde y el resto noche\n",
    "#esta primera linea crea una interfaz para el usuario meta un numero\n",
    "hora_usuario = int(input(\"dime la hora\"))\n",
    "if hora_usuario >= 6 and hora_usuario <= 14:\n",
    "    print(\"es de mañana\")\n",
    "elif hora_usuario >= 15 and hora_usuario <= 18 :\n",
    "    print(\"es por la tarde\")\n",
    "    #esta linea esta por los listos de los numeros negativos\n",
    "elif hora_usuario <= 0:\n",
    "    print(\"no hay horas negativas\")\n",
    "else :\n",
    "    print(\"es por la noche\")"
   ]
  },
  {
   "cell_type": "markdown",
   "metadata": {},
   "source": [
    "#### 3. Dado un nombre imprime un saludo personalizado."
   ]
  },
  {
   "cell_type": "code",
   "execution_count": 23,
   "metadata": {},
   "outputs": [
    {
     "name": "stdout",
     "output_type": "stream",
     "text": [
      "hola  4 encatado de conocerte\n"
     ]
    }
   ],
   "source": [
    "#usaremos un input para garantizar una entrada \n",
    "nombre_generico = input(\"ingresa un nombre\") \n",
    "print(\"hola \",nombre_generico , \"encatado de conocerte\")"
   ]
  },
  {
   "cell_type": "markdown",
   "metadata": {},
   "source": [
    "#### 4. Escribe un programa que determine qué calificación en texto tiene un alumno en base a su calificación numérica. Las reglas de calificación son: \n",
    "\n",
    "- 0 - 69 insuficiente\n",
    "\n",
    "- 70 - 79 bien\n",
    "\n",
    "- 80 - 89 muy bien\n",
    "\n",
    "- 90 - 100 excelente\n"
   ]
  },
  {
   "cell_type": "code",
   "execution_count": 27,
   "metadata": {},
   "outputs": [
    {
     "name": "stdout",
     "output_type": "stream",
     "text": [
      "insuficiente\n"
     ]
    }
   ],
   "source": [
    "# usaremos if para  localizar el rango de lo que haremos\n",
    "#aseguramos el int \n",
    "nota = int(input(\"pon la nota\"))\n",
    "#esto nos da una respuesta a un numero negativo \n",
    "if nota <= 0 :\n",
    "    print(\"no presentado\")\n",
    "elif nota >= 0 and nota <= 69 :\n",
    "    print(\"insuficiente\")\n",
    "elif nota >=70 and nota<= 79 :\n",
    "    print(\"bien\")\n",
    "elif nota >= 80 and nota <= 89 :\n",
    "    print(\"muy bien\")\n",
    "    #esto es por si ponemos un numero por encima de los permitidos\n",
    "elif nota >= 101 :\n",
    "    print(\"pon un valor aceptable\")\n",
    "else :\n",
    "    print(\"excelente\")\n",
    "\n",
    "\n",
    "\n"
   ]
  },
  {
   "cell_type": "markdown",
   "metadata": {},
   "source": [
    "#### 5. Escribe un programa que imprima el día de la semana, dado un número del 1 al 7.\n"
   ]
  },
  {
   "cell_type": "code",
   "execution_count": null,
   "metadata": {},
   "outputs": [
    {
     "name": "stdout",
     "output_type": "stream",
     "text": [
      "viernes\n"
     ]
    }
   ],
   "source": [
    "#aqui como solo hay una opcion correcta por dia , solo hay que tener encuenta esos 7 numeros y el resto desecharlos\n",
    "#esto hace que el input sea un numero\n",
    "numero_dia = int(input(\"que numero quieres saber\"))\n",
    "#esto da una respuesta a numero negativos\n",
    "if numero_dia <= 0 :\n",
    "    print(\"no hay ese dia\")\n",
    "elif numero_dia == 1 :\n",
    "    print(\"lunes\")\n",
    "elif numero_dia == 2 :\n",
    "    print(\"martes\")\n",
    "elif numero_dia == 3 :\n",
    "    print(\"miercoles\")\n",
    "elif numero_dia == 4 :\n",
    "    print(\"jueves\")\n",
    "elif numero_dia == 5 :\n",
    "    print(\"viernes\")\n",
    "elif numero_dia == 6 :\n",
    "    print (\"sábado\")\n",
    "elif numero_dia == 7 :\n",
    "    print(\"domingo\")\n",
    "else:\n",
    "    print(\"no hay ese numero de dia\")#esto hace que cualquier otro numero se descarte "
   ]
  },
  {
   "cell_type": "markdown",
   "metadata": {},
   "source": [
    "#### 6. Escribe un programa que determine si un número es positivo, negativo o cero."
   ]
  },
  {
   "cell_type": "code",
   "execution_count": 34,
   "metadata": {},
   "outputs": [
    {
     "name": "stdout",
     "output_type": "stream",
     "text": [
      "este numero es cero\n"
     ]
    }
   ],
   "source": [
    "# definiremos 3 casos uno donde es menos que cero para los negativos , el que sea igual a 0 y el que este por encima de cero\n",
    "numero_6 = int(input(\"ingresa un numero\"))\n",
    "if numero_6 < 0 :\n",
    "    print(\"este numero es negativo\")\n",
    "elif numero_6 == 0 :\n",
    "    print(\"este numero es cero\")\n",
    "else :\n",
    "    print(\"este numero es positvo\")"
   ]
  },
  {
   "cell_type": "markdown",
   "metadata": {},
   "source": [
    "#### 7. Escribe un programa que determine si una persona puede conducir o no. La edad mínima para conducir es 18 años. \n"
   ]
  },
  {
   "cell_type": "code",
   "execution_count": null,
   "metadata": {},
   "outputs": [
    {
     "name": "stdout",
     "output_type": "stream",
     "text": [
      "puedes conducir\n"
     ]
    }
   ],
   "source": [
    "#tendremos en cuenta 4 opciones , los menos de 0 para los negativos , los de menos de 18  y los de 18 o mas , añadimos ademas por si te pasas por encima\n",
    "numero_años = int(input(\"¿cuantos años tienes?\"))\n",
    "if numero_años <= 0 :\n",
    "    print(\"no se puede tener esa edad\")\n",
    "elif numero_años<=18 :\n",
    "    print(\"debes esperar un poco mas , no puedes conducir\")\n",
    "elif numero_años >= 18 or numero_años<= 100 :\n",
    "    print(\"puedes conducir\")\n",
    "else:\n",
    "    print(\"vuelve a introducir los años\")\n",
    "\n",
    "\n"
   ]
  },
  {
   "cell_type": "markdown",
   "metadata": {},
   "source": [
    "#### 8. Escribe un programa que determine si un estudiante aprobó o suspendió un examen."
   ]
  },
  {
   "cell_type": "code",
   "execution_count": 41,
   "metadata": {},
   "outputs": [
    {
     "name": "stdout",
     "output_type": "stream",
     "text": [
      "aprobado\n"
     ]
    }
   ],
   "source": [
    "#pondremos el vareno en 5 , si estas entre 10 y 5 estas aprobado , si estas entre 0 y menos de 5 suspenso , el resto devolverea un mensaje\n",
    "#esto  asegura un numero a la hora de leer\n",
    "nota_examen = int (input(\"dime tu nota\"))\n",
    "if nota_examen >= 5 and nota_examen <= 10:\n",
    "    print(\"aprobado\")\n",
    "elif nota_examen < 5 and nota_examen >= 0: \n",
    "    print(\"suspenso\")\n",
    "else:\n",
    "    print(\"pon otro numero\")"
   ]
  },
  {
   "cell_type": "markdown",
   "metadata": {},
   "source": [
    "#### 9. Escribe un programa que determine si un número es múltiplo de 3 y 5.\n"
   ]
  },
  {
   "cell_type": "code",
   "execution_count": 43,
   "metadata": {},
   "outputs": [
    {
     "name": "stdout",
     "output_type": "stream",
     "text": [
      "el numero es multiplo de ambos\n"
     ]
    }
   ],
   "source": [
    "# aqui solo tendremos 2 uno para cuando acertemos y otro para el resto \n",
    "# al igual como con los pares igualaresmos a 0 el % de 3 y de 5\n",
    "numero_primo = int(input(\"dime el numero\"))\n",
    "if numero_primo %3 == 0 and numero_primo %5 ==0 :\n",
    "    print(\"el numero es multiplo de ambos\")\n",
    "else:\n",
    "    print(\"prueba otro\")"
   ]
  },
  {
   "cell_type": "markdown",
   "metadata": {},
   "source": [
    "#### 10. Escribe un programa que determine si un número es par o impar.\n"
   ]
  },
  {
   "cell_type": "code",
   "execution_count": null,
   "metadata": {},
   "outputs": [],
   "source": [
    "#es igual al ejercicio 1  , el mismo codigo valdra"
   ]
  }
 ],
 "metadata": {
  "kernelspec": {
   "display_name": "Python 3",
   "language": "python",
   "name": "python3"
  },
  "language_info": {
   "codemirror_mode": {
    "name": "ipython",
    "version": 3
   },
   "file_extension": ".py",
   "mimetype": "text/x-python",
   "name": "python",
   "nbconvert_exporter": "python",
   "pygments_lexer": "ipython3",
   "version": "3.13.0"
  }
 },
 "nbformat": 4,
 "nbformat_minor": 2
}
