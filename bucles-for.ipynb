{
 "cells": [
  {
   "cell_type": "markdown",
   "metadata": {},
   "source": [
    "<div style=\"text-align: center;\">\n",
    "  <img src=\"https://github.com/Hack-io-Data/Imagenes/blob/main/01-LogosHackio/logo_celeste@4x.png?raw=true\" alt=\"logo hack(io)\" />\n",
    "</div>"
   ]
  },
  {
   "cell_type": "markdown",
   "metadata": {},
   "source": [
    "####  1. Genera una lista de números del 0 al 4 y luego imprime cada número en la lista usando un `bucle for`. "
   ]
  },
  {
   "cell_type": "code",
   "execution_count": 6,
   "metadata": {},
   "outputs": [
    {
     "name": "stdout",
     "output_type": "stream",
     "text": [
      "0\n",
      "1\n",
      "2\n",
      "3\n",
      "4\n"
     ]
    }
   ],
   "source": [
    "# creamos la lista , despues usamos for , seguido de lo que sea , en mi caso numeros en la lista y luego hacemos que nos muestre cada numeros , esto selecciona un solo numero cada bucle\n",
    "lista = [0,1,2,3,4]\n",
    "for numero in lista :\n",
    "    print (numero)\n"
   ]
  },
  {
   "cell_type": "markdown",
   "metadata": {},
   "source": [
    "#### 2. Itera sobre una lista de frutas y muestra cada fruta en mayúsculas. \n"
   ]
  },
  {
   "cell_type": "code",
   "execution_count": 9,
   "metadata": {},
   "outputs": [
    {
     "name": "stdout",
     "output_type": "stream",
     "text": [
      "Naranja\n",
      "Manzana\n",
      "Banana\n",
      "Mandarina\n"
     ]
    }
   ],
   "source": [
    "#creamos la lista , usaremos title para definir el bucle que cada fruta sea printeada en mayuscula\n",
    "lista_fruta = [\"naranja\" , \"manzana\" , \"banana\", \"mandarina\"]\n",
    "for fruta in lista_fruta:\n",
    "    print(fruta.title())"
   ]
  },
  {
   "cell_type": "markdown",
   "metadata": {},
   "source": [
    "####  3. Genera un bucle while que imprima los números del 0 al 4. \n"
   ]
  },
  {
   "cell_type": "code",
   "execution_count": 75,
   "metadata": {},
   "outputs": [],
   "source": [
    "lista_while = [0,1,2,3,4]\n"
   ]
  },
  {
   "cell_type": "code",
   "execution_count": 83,
   "metadata": {},
   "outputs": [
    {
     "name": "stdout",
     "output_type": "stream",
     "text": [
      "0\n",
      "1\n",
      "2\n",
      "3\n",
      "4\n",
      "para\n",
      "1\n",
      "2\n",
      "3\n",
      "4\n",
      "para\n",
      "2\n",
      "3\n",
      "4\n",
      "para\n",
      "3\n",
      "4\n",
      "para\n",
      "4\n",
      "para\n"
     ]
    }
   ],
   "source": [
    "#haremos que se imprima cada numero con \"nu\"  en la lista de 0 al 4 \n",
    "\n",
    "for nu in lista_while :\n",
    "    while nu  <=4 #mientras sea menos a 4 se ejecuta el bucle\n",
    "        print(nu)\n",
    "        nu += 1 # como empieza en 0 le sumara 1 cada bucle\n",
    "        if nu >4 :\n",
    "            print(\"para\")"
   ]
  },
  {
   "cell_type": "markdown",
   "metadata": {},
   "source": [
    "#### 4. Genera un bucle del 0 al 9, pero que se detenga en el 5.\n"
   ]
  },
  {
   "cell_type": "code",
   "execution_count": 93,
   "metadata": {},
   "outputs": [
    {
     "name": "stdout",
     "output_type": "stream",
     "text": [
      "0\n",
      "1\n",
      "2\n",
      "3\n",
      "4\n",
      "5\n",
      "1\n",
      "2\n",
      "3\n",
      "4\n",
      "5\n",
      "2\n",
      "3\n",
      "4\n",
      "5\n",
      "3\n",
      "4\n",
      "5\n",
      "4\n",
      "5\n",
      "5\n"
     ]
    }
   ],
   "source": [
    "lista_09 =[0,1,2,3,4,5,6,7,8,9]\n",
    "\n",
    "for nu9 in lista_09: \n",
    "    while nu9 <=5 :\n",
    "        print(nu9)\n",
    "        nu9 +=1\n",
    "    "
   ]
  },
  {
   "cell_type": "markdown",
   "metadata": {},
   "source": [
    "#### 5. Recorre los números del 0 al 9 e imprime solo los números impares."
   ]
  },
  {
   "cell_type": "code",
   "execution_count": 96,
   "metadata": {},
   "outputs": [
    {
     "name": "stdout",
     "output_type": "stream",
     "text": [
      "1\n",
      "3\n",
      "5\n",
      "7\n",
      "9\n"
     ]
    }
   ],
   "source": [
    "# tenemos la lista , usamos for para lanzar cada numero , y con el if obtendremos los impares\n",
    "lista_5  = [0,1,2,3,4,5,6,7,8,9]\n",
    "for numim in lista_5:\n",
    "    if numim %2 !=0 :\n",
    "        print(numim)"
   ]
  },
  {
   "cell_type": "markdown",
   "metadata": {},
   "source": [
    "#### 6. Dada la lista `[10, 20, 30, 40, 50]`, calcula la suma de todos los elementos usando un bucle `for`."
   ]
  },
  {
   "cell_type": "code",
   "execution_count": 102,
   "metadata": {},
   "outputs": [
    {
     "name": "stdout",
     "output_type": "stream",
     "text": [
      "10\n",
      "30\n",
      "60\n",
      "100\n",
      "150\n"
     ]
    }
   ],
   "source": [
    "# usaremos la lista \n",
    "#usaremos una segunda lista para acumular los resultados\n",
    "#en cada buclque sumaremos en el resultado y al volver a lanzarlo sumara deci\n",
    "lista6 = [10,20,30,40,50]\n",
    "resultado = 0\n",
    "for deci in lista6 :\n",
    "    resultado += deci \n",
    "    print(resultado)"
   ]
  },
  {
   "cell_type": "markdown",
   "metadata": {},
   "source": [
    "#### 7. Dada la cadena `\"Hola mundo\"`, cuenta cuántas veces aparecen las vocales (`a`, `e`, `i`, `o`, `u`) usando un bucle `for`.\n"
   ]
  },
  {
   "cell_type": "code",
   "execution_count": 109,
   "metadata": {},
   "outputs": [
    {
     "name": "stdout",
     "output_type": "stream",
     "text": [
      "0\n",
      "1\n",
      "1\n",
      "2\n",
      "2\n",
      "2\n",
      "3\n",
      "3\n",
      "3\n",
      "4\n"
     ]
    }
   ],
   "source": [
    "# creamos la cadena \n",
    "#creamos un set con las vocales \n",
    "#creamos una lista vacia \n",
    "#creamos un bucle for  y le añadimos un if segudio de un lower para comprobar que este en minusculas en el set y nos lo sume a la lista vacia\n",
    "cadena = \"Hola mundo\"\n",
    "vocales = {\"a\", \"e\",\"i\",\"o\",\"u\"}\n",
    "cantidad_vocal = 0\n",
    "for vocal in cadena :\n",
    "    if vocal.lower() in vocales :\n",
    "         cantidad_vocal +=1\n",
    "    print(cantidad_vocal)\n",
    "\n",
    "\n",
    "\n",
    "    "
   ]
  },
  {
   "cell_type": "markdown",
   "metadata": {},
   "source": [
    "#### 8. Dada la cadena `\"Python\"`, usa un bucle `for` para imprimir los caracteres en orden inverso (`n`, `o`, `h`, `t`, `y`, `P`).\n"
   ]
  },
  {
   "cell_type": "code",
   "execution_count": 110,
   "metadata": {},
   "outputs": [
    {
     "ename": "AttributeError",
     "evalue": "'str' object has no attribute '__reversed'",
     "output_type": "error",
     "traceback": [
      "\u001b[1;31m---------------------------------------------------------------------------\u001b[0m",
      "\u001b[1;31mAttributeError\u001b[0m                            Traceback (most recent call last)",
      "Cell \u001b[1;32mIn[110], line 4\u001b[0m\n\u001b[0;32m      2\u001b[0m inverso \u001b[38;5;241m=\u001b[39m \u001b[38;5;241m0\u001b[39m\n\u001b[0;32m      3\u001b[0m \u001b[38;5;28;01mfor\u001b[39;00m caracter \u001b[38;5;129;01min\u001b[39;00m cadenapy :\n\u001b[1;32m----> 4\u001b[0m     \u001b[43mcadenapy\u001b[49m\u001b[38;5;241;43m.\u001b[39;49m\u001b[43m__reversed\u001b[49m\n",
      "\u001b[1;31mAttributeError\u001b[0m: 'str' object has no attribute '__reversed'"
     ]
    }
   ],
   "source": [
    "# este no se consiguio\n",
    "cadenapy = \"Python\"\n",
    "inverso = 0\n",
    "for caracter in cadenapy :\n"
   ]
  },
  {
   "cell_type": "markdown",
   "metadata": {},
   "source": [
    "#### 9. Dada la lista `[1, 2, 3, 4, 5]`, multiplica todos sus elementos usando un bucle `for` y almacena los resultados en una lista nueva. \n"
   ]
  },
  {
   "cell_type": "code",
   "execution_count": 115,
   "metadata": {},
   "outputs": [
    {
     "name": "stdout",
     "output_type": "stream",
     "text": [
      "1\n",
      "2\n",
      "6\n",
      "24\n",
      "120\n"
     ]
    }
   ],
   "source": [
    "# usamos la lista 10 para los numeros\n",
    "#la lista n10 sera la nueva , es igual a uno porque no afecta a las multiplicaciones de inicio \n",
    "#al igual que con la suma  solo cambiamos la suma por un asterisco\n",
    "lista_10 = [1,2,3,4,5,]\n",
    "lista_n10 = 1\n",
    "for numero10 in lista_10 :\n",
    "    lista_n10 *= numero10\n",
    "    print(lista_n10)"
   ]
  },
  {
   "cell_type": "markdown",
   "metadata": {},
   "source": [
    "#### 10. Dada la lista `[1, 2, 3, 4, 5, 6, 7, 8, 9, 10]`, utiliza un bucle `for` para contar cuántos números son pares y cuántos son impares."
   ]
  },
  {
   "cell_type": "code",
   "execution_count": 118,
   "metadata": {},
   "outputs": [
    {
     "name": "stdout",
     "output_type": "stream",
     "text": [
      "5\n",
      "5\n"
     ]
    }
   ],
   "source": [
    "# usaremos un if en el bucle for para separar los que sean pares por %2 ==0 iran a la nueva lista de pares y si no se cumple esa condicion iran a la de impares\n",
    "lista_10b = [1,2,3,4,5,6,7,8,9,10]\n",
    "lista_pares = 0\n",
    "lista_impares= 0\n",
    "\n",
    "for numero10b in lista_10b:\n",
    "    if numero10b %2 ==0 :\n",
    "        lista_pares += 1\n",
    "    else:\n",
    "        lista_impares +=1\n",
    "print(lista_pares)\n",
    "print(lista_impares)\n"
   ]
  },
  {
   "cell_type": "markdown",
   "metadata": {},
   "source": [
    "#### 11. Escribe un programa que solicite al usuario un número entero positivo (`n`) y calcule la suma de todos los números primos menores o iguales a `n`. Utiliza un bucle `for` para iterar sobre cada número y verifica si es primo."
   ]
  },
  {
   "cell_type": "code",
   "execution_count": null,
   "metadata": {},
   "outputs": [],
   "source": [
    "#no se pudo realizar\n",
    "numero_usuario = int(input(\"dame un numero\"))\n",
    "if numero_usuario < 0 :\n",
    "    print(\"no es valido\")\n",
    "elif numero_usuario / numero_usuario = 1:\n"
   ]
  },
  {
   "cell_type": "markdown",
   "metadata": {},
   "source": [
    "#### 12. Escribe un programa que solicite al usuario un número entero positivo (`n`) y luego imprima un patrón de asteriscos como el siguiente ejemplo para `n = 5`:\n",
    "```\n",
    "*\n",
    "**\n",
    "***\n",
    "****\n",
    "*****\n",
    "```\n",
    "Utiliza un bucle `for` anidado para controlar la cantidad de asteriscos en cada línea."
   ]
  },
  {
   "cell_type": "code",
   "execution_count": null,
   "metadata": {},
   "outputs": [
    {
     "name": "stdout",
     "output_type": "stream",
     "text": [
      "* /n\n",
      "* /n\n",
      "* /n\n"
     ]
    }
   ],
   "source": [
    "#inconcluso , los saltos de lineas no se consiguen\n",
    "numero_asterisco=int(input(\"dame un numero\"))\n",
    "if numero_asterisco >= 5 :\n",
    "    numero_asterisco = 5\n",
    "elif numero_asterisco <= 0 :\n",
    "    print(\"elige otro numero\")\n",
    "for linea in range(1, numero_asterisco +1 ):\n",
    "    for asterisco in range (linea):\n",
    "        print(\"*\",\"/n\")\n"
   ]
  },
  {
   "cell_type": "markdown",
   "metadata": {},
   "source": [
    "#### 13. Dado un texto, utiliza un bucle `for` para contar cuántas veces aparece cada palabra en el texto. Ignora mayúsculas/minúsculas y los signos de puntuación."
   ]
  },
  {
   "cell_type": "code",
   "execution_count": null,
   "metadata": {},
   "outputs": [],
   "source": [
    "#este texto en blanco respresenta el libro\n",
    "texto = []\n",
    "#esta es la lista donde sumaremos las palabras\n",
    "numero_palabras = []\n",
    "#esto nos separara y pondra todo en minuscula para contrar habra que lanzarlo contra el texto una vez se tenga\n",
    "palabras= texto.lower().split()\n",
    "for palabra in palabras :\n",
    "    if palabra in numero_palabras:\n",
    "        numero_palabras +=1 \n",
    "    else numero_palabras =1# esto iniciara la primera vez\n",
    "print(numero_palabras)"
   ]
  },
  {
   "cell_type": "markdown",
   "metadata": {},
   "source": [
    "#### 14. Escribe un programa que solicite al usuario dos números enteros positivos (`inicio` y `fin`, donde `inicio <= fin`) y luego calcule la suma de los números pares y la suma de los números impares en ese rango. Utiliza un bucle `for` para iterar sobre cada número y una estructura `if-else` para clasificar y sumar los números pares e impares."
   ]
  },
  {
   "cell_type": "code",
   "execution_count": null,
   "metadata": {},
   "outputs": [],
   "source": []
  },
  {
   "cell_type": "markdown",
   "metadata": {},
   "source": [
    "#### 15. Escribe un programa que solicite al usuario un número entero positivo (`n`) y luego identifique todos los números primos menores o iguales a `n`. Para cada número, imprime si es primo o no usando un bucle `for` y una estructura `if-else` para verificar la condición de primalidad."
   ]
  },
  {
   "cell_type": "code",
   "execution_count": 127,
   "metadata": {},
   "outputs": [
    {
     "ename": "IndentationError",
     "evalue": "unindent does not match any outer indentation level (<string>, line 9)",
     "output_type": "error",
     "traceback": [
      "\u001b[1;36m  File \u001b[1;32m<string>:9\u001b[1;36m\u001b[0m\n\u001b[1;33m    else :\u001b[0m\n\u001b[1;37m          ^\u001b[0m\n\u001b[1;31mIndentationError\u001b[0m\u001b[1;31m:\u001b[0m unindent does not match any outer indentation level\n"
     ]
    }
   ],
   "source": [
    "# la idea era comprobar que el numero no fuera negativo , despues , con la funcion elf , iniciar un bucle donde se comprobase si era primo , de no serlo imprimiria no es primo pero no supe continuar mas\n",
    "numero_15 = int(input(\"dame un numero\"))\n",
    "if numero_15 <= 0 :\n",
    "    print(\"no vale , otro\")\n",
    "elif :for n15 in numero_15:\n",
    "        if  range(2, n +1):\n",
    "        es_primo = true\n",
    "        print(\"es primo\")\n",
    "    else :\n",
    "        print(\"no es primo\")\n",
    "\n"
   ]
  },
  {
   "cell_type": "markdown",
   "metadata": {},
   "source": [
    "#### 16.Dada una lista de precios `[100, 200, 300, 400, 500]`, aplica un descuento del 10% a todos los precios mayores a `250`. Imprime la lista actualizada de precios después de aplicar el descuento utilizando un bucle `for`. "
   ]
  },
  {
   "cell_type": "code",
   "execution_count": 138,
   "metadata": {},
   "outputs": [
    {
     "name": "stdout",
     "output_type": "stream",
     "text": [
      "[90.0, 180.0, 270.0, 360.0, 450.0]\n"
     ]
    }
   ],
   "source": [
    "lista_precios = [100, 200, 300, 400, 500]# es la lista uqe nos dan\n",
    "lista_con_descuento = []#lista vacia para almacenar los nuevos\n",
    "for precio in lista_precios:#calculamos el descuento\n",
    "   descuento = precio * 0.90 \n",
    "   lista_con_descuento.append(descuento)# añadimos a la lista nueva el descuento\n",
    "print(lista_con_descuento)"
   ]
  },
  {
   "cell_type": "markdown",
   "metadata": {},
   "source": [
    "#### 17. Dada una lista de calificaciones de estudiantes `[85, 92, 78, 90, 88]`, clasifica a cada estudiante como \"Aprobado\" si la calificación es mayor o igual a `80` y como \"Reprobado\" si es menor a `80`. Imprime el nombre de cada estudiante junto con su estado utilizando un bucle `for` y una estructura `if-else`.\n"
   ]
  },
  {
   "cell_type": "code",
   "execution_count": 157,
   "metadata": {},
   "outputs": [
    {
     "name": "stdout",
     "output_type": "stream",
     "text": [
      "enhorabuena, jaime, aprobaste con 85\n",
      "enhorabuena, alonso, aprobaste con 92\n",
      "rusia, reprobaste con 78\n",
      "enhorabuena, juan, aprobaste con 90\n",
      "enhorabuena, gilda, aprobaste con 88\n"
     ]
    }
   ],
   "source": [
    "calificaciones = [85, 92, 78, 90, 88]# nuestra lista\n",
    "nombres = [\"jaime\", \"alonso\",\"rusia\", \"juan\",\"gilda\"] #nombres inventados \n",
    "for nombre , nota in zip (nombres , calificaciones):  #buscara cada elemento en su correspondiente lista\n",
    "    if nota >= 80 :\n",
    "        print(f\"enhorabuena, {nombre}, aprobaste con {nota}\")# un poco de diseño \n",
    "    else :\n",
    "        print(f\"{nombre}, reprobaste con {nota}\")"
   ]
  },
  {
   "cell_type": "markdown",
   "metadata": {},
   "source": [
    "\n",
    "#### 18. Escribe un programa que solicite al usuario dos números enteros positivos (`inicio`, `fin`) y otro número entero positivo (`divisor`). Encuentra el número más grande en el rango desde `inicio` hasta `fin` que sea divisible por `divisor`. Utiliza un bucle `for` y una estructura `if-else` para verificar y mantener el registro del número más grande divisible por el divisor dado.\n"
   ]
  },
  {
   "cell_type": "markdown",
   "metadata": {},
   "source": []
  },
  {
   "cell_type": "code",
   "execution_count": null,
   "metadata": {},
   "outputs": [],
   "source": [
    "#no se me hizo posible conpletarlo\n",
    "primer_numero = int(input(\"numero inicio\"))\n",
    "segundo_numero =  int(input(\"segundo numero\"))\n",
    "divisor = int (input(\"dame un divisor\"))\n",
    "\n",
    "for numero18 in range (segundo_numero , primer_numero)"
   ]
  }
 ],
 "metadata": {
  "kernelspec": {
   "display_name": "Python 3",
   "language": "python",
   "name": "python3"
  },
  "language_info": {
   "codemirror_mode": {
    "name": "ipython",
    "version": 3
   },
   "file_extension": ".py",
   "mimetype": "text/x-python",
   "name": "python",
   "nbconvert_exporter": "python",
   "pygments_lexer": "ipython3",
   "version": "3.13.0"
  }
 },
 "nbformat": 4,
 "nbformat_minor": 2
}
