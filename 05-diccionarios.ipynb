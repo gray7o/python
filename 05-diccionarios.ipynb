{
 "cells": [
  {
   "cell_type": "markdown",
   "metadata": {},
   "source": [
    "<div style=\"text-align: center;\">\n",
    "  <img src=\"https://github.com/Hack-io-Data/Imagenes/blob/main/01-LogosHackio/logo_celeste@4x.png?raw=true\" alt=\"logo hack(io)\" />\n",
    "</div>"
   ]
  },
  {
   "cell_type": "markdown",
   "metadata": {},
   "source": [
    "#### 1. Acceso a valores. Dado el diccionario:\n",
    "\n",
    "```python\n",
    "alumno = {\n",
    "    \"nombre\": \"Laura\",\n",
    "    \"edad\": 22,\n",
    "    \"carrera\": \"Biología\"\n",
    "}\n",
    "```\n",
    "\n",
    "1.1. Accede y muestra el valor asociado con la clave `\"nombre\"`.\n",
    "\n",
    "1.2. Accede y muestra el valor asociado con la clave `\"carrera\"`.\n"
   ]
  },
  {
   "cell_type": "code",
   "execution_count": 3,
   "metadata": {},
   "outputs": [
    {
     "name": "stdout",
     "output_type": "stream",
     "text": [
      "<class 'dict'>\n"
     ]
    }
   ],
   "source": [
    "#usamos llaves para crear diccionario con formato clave , valor\n",
    "alumno = {\"nombre\" : \"Laura\" ,\n",
    "          \"edad\" : 22 ,\n",
    "          \"carrera\" : \"Biologia\"}\n",
    "print(type(alumno))"
   ]
  },
  {
   "cell_type": "code",
   "execution_count": 12,
   "metadata": {},
   "outputs": [
    {
     "name": "stdout",
     "output_type": "stream",
     "text": [
      "Laura\n",
      "Biologia\n"
     ]
    }
   ],
   "source": [
    "#el comando get para definir la clave, y le decimos que queremos que nos de como valor\n",
    "print(alumno.get(\"nombre\"))\n",
    "print(alumno.get(\"carrera\"))"
   ]
  },
  {
   "cell_type": "markdown",
   "metadata": {},
   "source": [
    "#### 2. Actualización de valores. Dado el siguiente diccionario:\n",
    "\n",
    "```python\n",
    "cuenta = {\n",
    "    \"saldo\": 1500,\n",
    "    \"moneda\": \"USD\"\n",
    "}\n",
    "```\n",
    "\n",
    "2.1. Actualiza el valor de la clave `\"saldo\"` a `2000`.\n",
    "\n",
    "2.2. Cambia el valor de `\"moneda\"` a `\"EUR\"`."
   ]
  },
  {
   "cell_type": "code",
   "execution_count": 13,
   "metadata": {},
   "outputs": [
    {
     "name": "stdout",
     "output_type": "stream",
     "text": [
      "<class 'dict'>\n"
     ]
    }
   ],
   "source": [
    "#solo creo el diccionario\n",
    "cuenta = {\"saldo\" : 1500 ,\n",
    "           \"moneda\" : \"USD\"\n",
    "           }\n",
    "print(type(cuenta))"
   ]
  },
  {
   "cell_type": "code",
   "execution_count": 19,
   "metadata": {},
   "outputs": [
    {
     "name": "stdout",
     "output_type": "stream",
     "text": [
      "{'saldo': 2000, 'moneda': 'EUR'}\n"
     ]
    }
   ],
   "source": [
    "#podemos concatenar cambios con el comando update con llaves y clave : valor  podemos decirle donde queremos los cambios\n",
    "cuenta.update({\"saldo\" : 2000 , \"moneda\" : \"EUR\"})\n",
    "print (cuenta)"
   ]
  },
  {
   "cell_type": "markdown",
   "metadata": {},
   "source": [
    "\n",
    "#### 3. Añadir nuevas claves. Dado el diccionario:\n",
    "\n",
    "```python\n",
    "vehiculo = {\n",
    "    \"marca\": \"Ford\",\n",
    "    \"modelo\": \"Mustang\"\n",
    "}\n",
    "```\n",
    "\n",
    "3.1. Añade una nueva clave `\"año\"` con el valor `2020`.\n",
    "\n",
    "3.2. Añade una nueva clave `\"color\"` con el valor `\"rojo\"`.\n"
   ]
  },
  {
   "cell_type": "code",
   "execution_count": 29,
   "metadata": {},
   "outputs": [
    {
     "name": "stdout",
     "output_type": "stream",
     "text": [
      "<class 'dict'>\n"
     ]
    }
   ],
   "source": [
    "#solo creo el dicc\n",
    "vehiculo = {\"marca\" : \"Frod\" ,\n",
    "             \"modelo\" : \"Mustang\"}\n",
    "print(type(vehiculo))"
   ]
  },
  {
   "cell_type": "code",
   "execution_count": 30,
   "metadata": {},
   "outputs": [
    {
     "name": "stdout",
     "output_type": "stream",
     "text": [
      "{'marca': 'Frod', 'modelo': 'Mustang', 'año': 2020, 'color': 'rojo'}\n"
     ]
    }
   ],
   "source": [
    "#volvemos a aplicar update\n",
    "vehiculo.update ({\"año\" : 2020 , \"color\" : \"rojo\"})\n",
    "print(vehiculo)"
   ]
  },
  {
   "cell_type": "markdown",
   "metadata": {},
   "source": [
    "#### 4. Eliminar Claves. Dado el diccionario:\n",
    "\n",
    "```python\n",
    "libro = {\n",
    "    \"título\": \"Cien Años de Soledad\",\n",
    "    \"autor\": \"Gabriel García Márquez\",\n",
    "    \"páginas\": 417\n",
    "}\n",
    "```\n",
    "\n",
    "4.1. Elimina la clave `\"páginas\"`.\n",
    "\n",
    "4.2. Elimina la clave `\"título\"`.\n",
    "\n"
   ]
  },
  {
   "cell_type": "code",
   "execution_count": 52,
   "metadata": {},
   "outputs": [],
   "source": [
    "#solo creo el diccionario\n",
    "libro = {\"título\" : \"Cien Años de Soledad\" ,\n",
    "          \"autor\" : \"Gabriel García Márquez\" ,\n",
    "          \"páginas\" : 417}"
   ]
  },
  {
   "cell_type": "code",
   "execution_count": 53,
   "metadata": {},
   "outputs": [
    {
     "data": {
      "text/plain": [
       "417"
      ]
     },
     "execution_count": 53,
     "metadata": {},
     "output_type": "execute_result"
    }
   ],
   "source": [
    "#usamos pop para eliminar un str que queramos\n",
    "libro.pop(\"páginas\")"
   ]
  },
  {
   "cell_type": "code",
   "execution_count": 54,
   "metadata": {},
   "outputs": [
    {
     "data": {
      "text/plain": [
       "'Cien Años de Soledad'"
      ]
     },
     "execution_count": 54,
     "metadata": {},
     "output_type": "execute_result"
    }
   ],
   "source": [
    "#volvemos a eliminar\n",
    "libro.pop(\"título\")"
   ]
  },
  {
   "cell_type": "code",
   "execution_count": 55,
   "metadata": {},
   "outputs": [
    {
     "name": "stdout",
     "output_type": "stream",
     "text": [
      "<class 'dict'>\n",
      "{'autor': 'Gabriel García Márquez'}\n"
     ]
    }
   ],
   "source": [
    "print(type(libro))\n",
    "print(libro)"
   ]
  },
  {
   "cell_type": "markdown",
   "metadata": {},
   "source": [
    "\n",
    "#### 5. Verificación de Existencia de Claves. Dado el diccionario:\n",
    "\n",
    "```python\n",
    "pelicula = {\n",
    "    \"título\": \"Inception\",\n",
    "    \"director\": \"Christopher Nolan\"\n",
    "}\n",
    "```\n",
    "5.1. Verifica si la clave `\"director\"` existe en el diccionario.\n",
    "\n",
    "5.2. Verifica si la clave `\"año\"` existe en el diccionario.\n"
   ]
  },
  {
   "cell_type": "code",
   "execution_count": 56,
   "metadata": {},
   "outputs": [
    {
     "name": "stdout",
     "output_type": "stream",
     "text": [
      "<class 'dict'>\n"
     ]
    }
   ],
   "source": [
    "#aqui creo el diccionario\n",
    "pelicula = {\"título\" : \"Inception\" ,\n",
    "             \"director\" : \"Chistopher Nolan\"}\n",
    "print(type(pelicula))"
   ]
  },
  {
   "cell_type": "code",
   "execution_count": 57,
   "metadata": {},
   "outputs": [
    {
     "data": {
      "text/plain": [
       "'Chistopher Nolan'"
      ]
     },
     "execution_count": 57,
     "metadata": {},
     "output_type": "execute_result"
    }
   ],
   "source": [
    "#al existir setdefaoult nos devuelve el valor\n",
    "pelicula.setdefault(\"director\")"
   ]
  },
  {
   "cell_type": "code",
   "execution_count": 59,
   "metadata": {},
   "outputs": [
    {
     "name": "stdout",
     "output_type": "stream",
     "text": [
      "{'título': 'Inception', 'director': 'Chistopher Nolan', 'año': None}\n"
     ]
    }
   ],
   "source": [
    "#al no existir el comando setdefaoult  lo añade sin valor\n",
    "pelicula.setdefault(\"año\")\n",
    "print(pelicula)"
   ]
  },
  {
   "cell_type": "markdown",
   "metadata": {},
   "source": [
    "#### 6. Uso del Método `get`. Dado el diccionario:\n",
    "\n",
    "```python\n",
    "ciudad = {\n",
    "    \"nombre\": \"París\",\n",
    "    \"país\": \"Francia\"\n",
    "}\n",
    "```\n",
    "\n",
    "6.1. Usa el método `get` para obtener el valor de la clave `\"nombre\"`.\n",
    "\n",
    "6.2. Usa el método `get` para obtener el valor de la clave `\"población\"` con un valor predeterminado `\"Desconocido\"`.\n"
   ]
  },
  {
   "cell_type": "code",
   "execution_count": 62,
   "metadata": {},
   "outputs": [],
   "source": [
    "#creo el dic\n",
    "ciudad = {\"nombre\": \"París\" ,\n",
    "          \"país\" : \"Fancia\"\n",
    "          }"
   ]
  },
  {
   "cell_type": "code",
   "execution_count": 64,
   "metadata": {},
   "outputs": [
    {
     "data": {
      "text/plain": [
       "'París'"
      ]
     },
     "execution_count": 64,
     "metadata": {},
     "output_type": "execute_result"
    }
   ],
   "source": [
    "#solo ejectuo get\n",
    "ciudad.get(\"nombre\")"
   ]
  },
  {
   "cell_type": "code",
   "execution_count": 70,
   "metadata": {},
   "outputs": [
    {
     "data": {
      "text/plain": [
       "'desconocido'"
      ]
     },
     "execution_count": 70,
     "metadata": {},
     "output_type": "execute_result"
    }
   ],
   "source": [
    "#el get nos permite poner un valor  y una clave \n",
    "ciudad.get(\"poblacion\" , \"desconocido\")"
   ]
  },
  {
   "cell_type": "markdown",
   "metadata": {},
   "source": [
    "#### 7. Actualización con `update`. Dado el diccionario:\n",
    "\n",
    "```python\n",
    "persona = {\n",
    "    \"nombre\": \"Miguel\",\n",
    "    \"correo\": \"miguel@example.com\"\n",
    "}\n",
    "```\n",
    "\n",
    "7.1. Usa el método `update` para añadir las claves `\"edad\"` con valor `30` y `\"teléfono\"` con valor `\"555-1234\"`.\n",
    "\n",
    "7.2. Cambia el valor de la clave `\"correo\"` usando `update`.\n"
   ]
  },
  {
   "cell_type": "code",
   "execution_count": 72,
   "metadata": {},
   "outputs": [],
   "source": [
    "#aqui se crea el diccionario\n",
    "persona = {\"nombre\" : \"miguel\" , \n",
    "           \"correo\" : \"miguel@example.com\"}"
   ]
  },
  {
   "cell_type": "code",
   "execution_count": 81,
   "metadata": {},
   "outputs": [
    {
     "name": "stdout",
     "output_type": "stream",
     "text": [
      "{'nombre': 'miguel', 'correo': 'miguel@example.com', 'edad': 30, 'teléfono': '555-1234'}\n"
     ]
    }
   ],
   "source": [
    "#aplicamos update , con llaves y corchetes ademas añadimos comillas al telefono de lo contratio asumiria que es una resta y no un guion tomando por separado ambos valores\n",
    "persona.update({\"edad\" : 30 , \"teléfono\" : \"555-1234\"})\n",
    "print(persona)"
   ]
  }
 ],
 "metadata": {
  "kernelspec": {
   "display_name": "Python 3",
   "language": "python",
   "name": "python3"
  },
  "language_info": {
   "codemirror_mode": {
    "name": "ipython",
    "version": 3
   },
   "file_extension": ".py",
   "mimetype": "text/x-python",
   "name": "python",
   "nbconvert_exporter": "python",
   "pygments_lexer": "ipython3",
   "version": "3.13.0"
  }
 },
 "nbformat": 4,
 "nbformat_minor": 2
}
