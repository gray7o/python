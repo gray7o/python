{
 "cells": [
  {
   "cell_type": "markdown",
   "metadata": {},
   "source": [
    "<div style=\"text-align: center;\">\n",
    "  <img src=\"https://github.com/Hack-io-Data/Imagenes/blob/main/01-LogosHackio/logo_celeste@4x.png?raw=true\" alt=\"logo hack(io)\" />\n",
    "</div>"
   ]
  },
  {
   "cell_type": "markdown",
   "metadata": {},
   "source": [
    "## Tipos de datos\n",
    "\n",
    "Es esencial comprender los distintos tipos de datos en Python, como enteros, flotantes, cadenas de texto, booleanos, listas, tuplas y diccionarios. Este conocimiento es fundamental para el diseño de algoritmos, ya que los tipos de datos determinan cómo se almacenan y procesan los datos en la memoria.\n",
    "\n",
    "En esta batería de ejercicios, exploraremos los tipos de datos en Python y cómo utilizarlos eficientemente. Desde los conceptos básicos hasta los más avanzados, esta serie de ejercicios está diseñada para mejorar las habilidades de programación en Python y profundizar la comprensión de los tipos de datos, esencial para desarrollar aplicaciones de calidad y eficientes."
   ]
  },
  {
   "cell_type": "markdown",
   "metadata": {},
   "source": [
    "### Ejercicio 1: Operaciones aritméticas con números complejos\n",
    "\n",
    "1-Declara dos variables `numero1` y `numero2` y asigna a ellas valores numéricos complejos.\n",
    "\n",
    "2-Realiza las siguientes operaciones: suma, resta, multiplicación y división.\n",
    "\n",
    "3-Imprime en pantalla el resultado de cada operación utilizando la función `print()`."
   ]
  },
  {
   "cell_type": "code",
   "execution_count": 33,
   "metadata": {},
   "outputs": [
    {
     "name": "stdout",
     "output_type": "stream",
     "text": [
      "9.24\n"
     ]
    }
   ],
   "source": [
    "numero_1 = [2.99 , 7.25 , 1000.99]\n",
    "numero_2 = [1.99 , 740.55 , 5.50 ]\n",
    "\n",
    "#aqui iran las operaciones#\n",
    "#las operaciones iran del rango 0 al 2 en caso de poner un rango mayor al 2 saldra error#\n",
    "#suma#\n",
    "#numero _1 y numero_2 son listas , con floats dentro , cada uno tiene un rango de 0 a 2#\n",
    "#en el  recuadro amaraillo de numero_1  y numero_2 \"indexaremos el numero a sumar , recuerda que empeizan en 0#\n",
    "resultado_suma = numero_1[1]  + numero_2[0]\n",
    "print(resultado_suma)"
   ]
  },
  {
   "cell_type": "code",
   "execution_count": 34,
   "metadata": {},
   "outputs": [
    {
     "name": "stdout",
     "output_type": "stream",
     "text": [
      "-733.3\n"
     ]
    }
   ],
   "source": [
    "#resta#\n",
    "#en la casilla de numero_1 pondremos el rango que #\n",
    "# queremos restar al numero _2  que tambien tendremos que poner el rango#\n",
    "resultado_resta = numero_1[1] - numero_2[1]\n",
    "print(resultado_resta)"
   ]
  },
  {
   "cell_type": "code",
   "execution_count": 36,
   "metadata": {},
   "outputs": [
    {
     "name": "stdout",
     "output_type": "stream",
     "text": [
      "5.950100000000001\n"
     ]
    }
   ],
   "source": [
    "#multiplicar#\n",
    "#usaremos el asterisco para decirle  que multiplique el numero _1 #\n",
    "# , en el rango que queramos , casilla amarilla , por#\n",
    "#el numero _2 en el rango que queramos#\n",
    "resultado_multiplicar = numero_1[0] * numero_2 [0]\n",
    "print(resultado_multiplicar)"
   ]
  },
  {
   "cell_type": "code",
   "execution_count": 37,
   "metadata": {},
   "outputs": [
    {
     "name": "stdout",
     "output_type": "stream",
     "text": [
      "181.99818181818182\n"
     ]
    }
   ],
   "source": [
    "#division#\n",
    "#usaremos el / para divivir el numero_1 en el rango aceptado\n",
    "#entre el numero_2 e el rango que queramos\n",
    "resultado_dividir = numero_1 [2] / numero_2 [2]\n",
    "print(resultado_dividir)"
   ]
  },
  {
   "cell_type": "markdown",
   "metadata": {},
   "source": [
    "### Ejercicio 2: Formateo de cadenas de texto\n",
    "\n",
    "1-Declara una variable `nombre` y asigna a ella el valor 'Juan'.\n",
    "\n",
    "2-Declara una variable `edad` y asigna a ella el valor 25.\n",
    "\n",
    "3- Declara una variable llamada `peso` y asigna a ella el valor 75.5.\n",
    "\n",
    "4-Declara una variable llamada `altura` y asigna a ella el valor 1.75.\n",
    "\n",
    "5-Imprime en pantalla el valor de cada variable utilizando la función print().\n",
    "\n",
    "6-Utiliza el formateo de cadenas de texto para imprimir en pantalla un mensaje que diga: `Hola me llamo Juan, tengo 25 años, peso 75.5 kg y mido 1.75 m`."
   ]
  },
  {
   "cell_type": "code",
   "execution_count": 38,
   "metadata": {},
   "outputs": [
    {
     "name": "stdout",
     "output_type": "stream",
     "text": [
      "juan 25 75.5 1.75\n"
     ]
    }
   ],
   "source": [
    "#caedna de texto 3\n",
    "#nombraremos variables de tipo str and int con comillas#\n",
    "#usaremos print para verlas en pantalla , separadas por comas#\n",
    "nombre = \"juan\"\n",
    "edad =\"25\"\n",
    "peso = \"75.5\"\n",
    "altura = \"1.75\"\n",
    "print(nombre , edad ,  peso , altura)"
   ]
  },
  {
   "cell_type": "code",
   "execution_count": 46,
   "metadata": {},
   "outputs": [
    {
     "name": "stdout",
     "output_type": "stream",
     "text": [
      "hola me llamo juan, tengo 25 años ,peso 75.5 kg , y mido 1.75 m\n"
     ]
    }
   ],
   "source": [
    "#edicion de cadenas#\n",
    "#uasndo la f como formato tras el print podemos#\n",
    "#  añadirle texto y combinar variables previamente definidas#\n",
    "\n",
    "print(f\"hola me llamo {nombre}, tengo {edad} años ,peso {peso} kg , y mido {altura} m\")"
   ]
  },
  {
   "cell_type": "markdown",
   "metadata": {},
   "source": [
    "### Ejercicio 3: Conversión de cadenas de texto a números\n",
    "\n",
    "\n",
    "1-Declara una variable `cadena` y asigna a ella el valor '10'.\n",
    "\n",
    "2-Utiliza la función type() para obtener el tipo de dato de `cadena` y asigna el resultado a una variable llamada `tipo`.\n",
    "\n",
    "3- Imprime en pantalla el valor de `tipo` utilizando la función print().\n",
    "\n",
    "4-Convierte el valor de `cadena` a entero y asigna el resultado a una variable llamada `numero`.\n",
    "\n",
    "5-Realiza la operación de incremento en `numero` y asigna el resultado a la misma variable.\n"
   ]
  },
  {
   "cell_type": "code",
   "execution_count": 50,
   "metadata": {},
   "outputs": [
    {
     "name": "stdout",
     "output_type": "stream",
     "text": [
      "<class 'str'>\n"
     ]
    }
   ],
   "source": [
    "# aqui declaramos la variables como 10 #\n",
    "#hacemos que tipo sega igual a type de lo declarado anteriormente#\n",
    "#y le decimos que nos lo saque #\n",
    "cadena = \"10\"\n",
    "tipo = type(cadena)\n",
    "print(tipo)"
   ]
  },
  {
   "cell_type": "code",
   "execution_count": 52,
   "metadata": {},
   "outputs": [
    {
     "name": "stdout",
     "output_type": "stream",
     "text": [
      "10\n"
     ]
    }
   ],
   "source": [
    "#cambiamos la variable de stn a int para #\n",
    "#poder tener ver el 10#\n",
    "numero = int(cadena)\n",
    "print (numero)"
   ]
  },
  {
   "cell_type": "code",
   "execution_count": 53,
   "metadata": {},
   "outputs": [
    {
     "name": "stdout",
     "output_type": "stream",
     "text": [
      "12\n"
     ]
    }
   ],
   "source": [
    "#a la variable numero , la igualamos a ella misma para realizar operaciones como sumar#\n",
    "numero = numero +2 \n",
    "print(numero)"
   ]
  },
  {
   "cell_type": "markdown",
   "metadata": {},
   "source": [
    "### Ejercicio 4: Uso de la función input()\n",
    "\n",
    "1-Utiliza la función input() para solicitar al usuario que ingrese un número.\n",
    "\n",
    "2-Asigna el valor ingresado por el usuario a una variable llamada `numero`.\n",
    "\n",
    "3-Realiza la operación de incremento en `numero` y asigna el resultado a la misma variable.\n",
    "\n",
    "4-Imprime en pantalla el valor de numero utilizando la función print()."
   ]
  },
  {
   "cell_type": "code",
   "execution_count": 59,
   "metadata": {},
   "outputs": [
    {
     "name": "stdout",
     "output_type": "stream",
     "text": [
      "6\n"
     ]
    }
   ],
   "source": [
    "#en la parte 2 nos pide que le llamemos numero , llamare a numero ---->numero _input \n",
    "#como el input detecta un str , pondremos un int para convertirlo y poder operar\n",
    "numero_input = int(input ())\n",
    "numero_input = numero_input + 2\n",
    "print(numero_input)"
   ]
  }
 ],
 "metadata": {
  "kernelspec": {
   "display_name": "Python 3",
   "language": "python",
   "name": "python3"
  },
  "language_info": {
   "codemirror_mode": {
    "name": "ipython",
    "version": 3
   },
   "file_extension": ".py",
   "mimetype": "text/x-python",
   "name": "python",
   "nbconvert_exporter": "python",
   "pygments_lexer": "ipython3",
   "version": "3.13.0"
  }
 },
 "nbformat": 4,
 "nbformat_minor": 2
}
